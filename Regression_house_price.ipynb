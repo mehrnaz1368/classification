{
  "nbformat": 4,
  "nbformat_minor": 0,
  "metadata": {
    "colab": {
      "provenance": [],
      "authorship_tag": "ABX9TyPY7Bh6LDD2/yWlY2LC9PO5",
      "include_colab_link": true
    },
    "kernelspec": {
      "name": "python3",
      "display_name": "Python 3"
    },
    "language_info": {
      "name": "python"
    }
  },
  "cells": [
    {
      "cell_type": "markdown",
      "metadata": {
        "id": "view-in-github",
        "colab_type": "text"
      },
      "source": [
        "<a href=\"https://colab.research.google.com/github/mehrnaz1368/classification/blob/main/Regression_house_price.ipynb\" target=\"_parent\"><img src=\"https://colab.research.google.com/assets/colab-badge.svg\" alt=\"Open In Colab\"/></a>"
      ]
    },
    {
      "cell_type": "code",
      "execution_count": null,
      "metadata": {
        "id": "LXsgK2zGCSmp"
      },
      "outputs": [],
      "source": [
        "import pandas as pd\n",
        "import numpy as np\n",
        "import matplotlib.pyplot as plt\n",
        "import seaborn as sns"
      ]
    },
    {
      "cell_type": "code",
      "source": [
        "data=pd.read_csv('housePrice.csv')"
      ],
      "metadata": {
        "id": "fm0hBbu7Ch9B"
      },
      "execution_count": null,
      "outputs": []
    },
    {
      "cell_type": "code",
      "source": [
        "print(data.head())"
      ],
      "metadata": {
        "colab": {
          "base_uri": "https://localhost:8080/"
        },
        "id": "p-w-ErwACsXd",
        "outputId": "bb9f3bf5-a4b7-4407-88ee-48312536c0b8"
      },
      "execution_count": null,
      "outputs": [
        {
          "output_type": "stream",
          "name": "stdout",
          "text": [
            "  Area  Room  Parking  Warehouse  Elevator         Address         Price  \\\n",
            "0   63     1     True       True      True         Shahran  1.850000e+09   \n",
            "1   60     1     True       True      True         Shahran  1.850000e+09   \n",
            "2   79     2     True       True      True          Pardis  5.500000e+08   \n",
            "3   95     2     True       True      True   Shahrake Qods  9.025000e+08   \n",
            "4  123     2     True       True      True  Shahrake Gharb  7.000000e+09   \n",
            "\n",
            "   Price(USD)  \n",
            "0    61666.67  \n",
            "1    61666.67  \n",
            "2    18333.33  \n",
            "3    30083.33  \n",
            "4   233333.33  \n"
          ]
        }
      ]
    },
    {
      "cell_type": "code",
      "source": [
        "data.shape"
      ],
      "metadata": {
        "id": "1ffLcveqMo5I",
        "outputId": "aed09f80-fc39-481c-a2f9-0d86e1f72ce7",
        "colab": {
          "base_uri": "https://localhost:8080/"
        }
      },
      "execution_count": null,
      "outputs": [
        {
          "output_type": "execute_result",
          "data": {
            "text/plain": [
              "(3479, 8)"
            ]
          },
          "metadata": {},
          "execution_count": 5
        }
      ]
    },
    {
      "cell_type": "code",
      "source": [
        "obj = (data.dtypes == 'object')\n",
        "object_cols = list(obj[obj].index)\n",
        "print(\"Categorical variables:\",len(object_cols))\n",
        "\n",
        "int_ = (data.dtypes == 'int')\n",
        "num_cols = list(int_[int_].index)\n",
        "print(\"Integer variables:\",len(num_cols))\n",
        "\n",
        "fl = (data.dtypes == 'float')\n",
        "fl_cols = list(fl[fl].index)\n",
        "print(\"Float variables:\",len(fl_cols))"
      ],
      "metadata": {
        "id": "Ywb_5Bj8Ms5X",
        "outputId": "20c0983a-e5db-4dd4-9545-1c83d9e68e10",
        "colab": {
          "base_uri": "https://localhost:8080/"
        }
      },
      "execution_count": null,
      "outputs": [
        {
          "output_type": "stream",
          "name": "stdout",
          "text": [
            "Categorical variables: 2\n",
            "Integer variables: 1\n",
            "Float variables: 2\n"
          ]
        }
      ]
    },
    {
      "cell_type": "code",
      "source": [
        "from sklearn.preprocessing import LabelEncoder\n",
        "le=LabelEncoder()\n",
        "label=le.fit_transform(data['Parking'])\n",
        "data['Parking']=label\n",
        "label1=le.fit_transform(data['Warehouse'])\n",
        "data['Warehouse']=label1\n",
        "label2=le.fit_transform(data['Elevator'])\n",
        "data['Elevator']=label2\n",
        "label3=le.fit_transform(data['Address'])\n",
        "data['Address']=label3\n",
        "print(data.head())"
      ],
      "metadata": {
        "colab": {
          "base_uri": "https://localhost:8080/"
        },
        "id": "JAYknSE2SxSc",
        "outputId": "9c75040b-4de0-45c4-ab99-4b75c1a3f839"
      },
      "execution_count": 14,
      "outputs": [
        {
          "output_type": "stream",
          "name": "stdout",
          "text": [
            "  Area  Room  Parking  Warehouse  Elevator  Address         Price\n",
            "0   63     1        1          1         1      156  1.850000e+09\n",
            "1   60     1        1          1         1      156  1.850000e+09\n",
            "2   79     2        1          1         1      117  5.500000e+08\n",
            "3   95     2        1          1         1      152  9.025000e+08\n",
            "4  123     2        1          1         1      150  7.000000e+09\n"
          ]
        }
      ]
    },
    {
      "cell_type": "code",
      "source": [
        "from sklearn.preprocessing import StandardScaler\n",
        "z = data[['Price']]\n",
        "scaler = StandardScaler()\n",
        "features = scaler.fit_transform(z)\n",
        "data['Price']=features\n",
        "data['Price']"
      ],
      "metadata": {
        "colab": {
          "base_uri": "https://localhost:8080/"
        },
        "id": "nYTv_yAiTIn5",
        "outputId": "9de19835-db64-4347-ac9a-25e6c450bd61"
      },
      "execution_count": 21,
      "outputs": [
        {
          "output_type": "execute_result",
          "data": {
            "text/plain": [
              "0      -0.433278\n",
              "1      -0.433278\n",
              "2      -0.593797\n",
              "3      -0.550272\n",
              "4       0.202621\n",
              "          ...   \n",
              "3474   -0.229544\n",
              "3475    0.177925\n",
              "3476   -0.616640\n",
              "3477    0.029755\n",
              "3478   -0.617257\n",
              "Name: Price, Length: 3479, dtype: float64"
            ]
          },
          "metadata": {},
          "execution_count": 21
        }
      ]
    },
    {
      "cell_type": "code",
      "source": [
        "p = data[['Price']]\n",
        "scaler = StandardScaler()\n",
        "features = scaler.fit_transform(p)\n",
        "data['Area']=features\n",
        "data['Area']"
      ],
      "metadata": {
        "colab": {
          "base_uri": "https://localhost:8080/"
        },
        "id": "ZkzmXKJjUGhM",
        "outputId": "13b55b46-cdf7-4ade-fc1b-339c75a41a0a"
      },
      "execution_count": 22,
      "outputs": [
        {
          "output_type": "execute_result",
          "data": {
            "text/plain": [
              "0      -0.433278\n",
              "1      -0.433278\n",
              "2      -0.593797\n",
              "3      -0.550272\n",
              "4       0.202621\n",
              "          ...   \n",
              "3474   -0.229544\n",
              "3475    0.177925\n",
              "3476   -0.616640\n",
              "3477    0.029755\n",
              "3478   -0.617257\n",
              "Name: Area, Length: 3479, dtype: float64"
            ]
          },
          "metadata": {},
          "execution_count": 22
        }
      ]
    },
    {
      "cell_type": "code",
      "source": [
        "data.head()"
      ],
      "metadata": {
        "colab": {
          "base_uri": "https://localhost:8080/",
          "height": 206
        },
        "id": "2fO61ahuUUVq",
        "outputId": "304c9169-9fd6-4017-fc04-135b393b440c"
      },
      "execution_count": 24,
      "outputs": [
        {
          "output_type": "execute_result",
          "data": {
            "text/plain": [
              "       Area  Room  Parking  Warehouse  Elevator  Address     Price\n",
              "0 -0.433278     1        1          1         1      156 -0.433278\n",
              "1 -0.433278     1        1          1         1      156 -0.433278\n",
              "2 -0.593797     2        1          1         1      117 -0.593797\n",
              "3 -0.550272     2        1          1         1      152 -0.550272\n",
              "4  0.202621     2        1          1         1      150  0.202621"
            ],
            "text/html": [
              "\n",
              "  <div id=\"df-d3a95d79-e66e-4e65-b0d5-d13bdc67f75f\">\n",
              "    <div class=\"colab-df-container\">\n",
              "      <div>\n",
              "<style scoped>\n",
              "    .dataframe tbody tr th:only-of-type {\n",
              "        vertical-align: middle;\n",
              "    }\n",
              "\n",
              "    .dataframe tbody tr th {\n",
              "        vertical-align: top;\n",
              "    }\n",
              "\n",
              "    .dataframe thead th {\n",
              "        text-align: right;\n",
              "    }\n",
              "</style>\n",
              "<table border=\"1\" class=\"dataframe\">\n",
              "  <thead>\n",
              "    <tr style=\"text-align: right;\">\n",
              "      <th></th>\n",
              "      <th>Area</th>\n",
              "      <th>Room</th>\n",
              "      <th>Parking</th>\n",
              "      <th>Warehouse</th>\n",
              "      <th>Elevator</th>\n",
              "      <th>Address</th>\n",
              "      <th>Price</th>\n",
              "    </tr>\n",
              "  </thead>\n",
              "  <tbody>\n",
              "    <tr>\n",
              "      <th>0</th>\n",
              "      <td>-0.433278</td>\n",
              "      <td>1</td>\n",
              "      <td>1</td>\n",
              "      <td>1</td>\n",
              "      <td>1</td>\n",
              "      <td>156</td>\n",
              "      <td>-0.433278</td>\n",
              "    </tr>\n",
              "    <tr>\n",
              "      <th>1</th>\n",
              "      <td>-0.433278</td>\n",
              "      <td>1</td>\n",
              "      <td>1</td>\n",
              "      <td>1</td>\n",
              "      <td>1</td>\n",
              "      <td>156</td>\n",
              "      <td>-0.433278</td>\n",
              "    </tr>\n",
              "    <tr>\n",
              "      <th>2</th>\n",
              "      <td>-0.593797</td>\n",
              "      <td>2</td>\n",
              "      <td>1</td>\n",
              "      <td>1</td>\n",
              "      <td>1</td>\n",
              "      <td>117</td>\n",
              "      <td>-0.593797</td>\n",
              "    </tr>\n",
              "    <tr>\n",
              "      <th>3</th>\n",
              "      <td>-0.550272</td>\n",
              "      <td>2</td>\n",
              "      <td>1</td>\n",
              "      <td>1</td>\n",
              "      <td>1</td>\n",
              "      <td>152</td>\n",
              "      <td>-0.550272</td>\n",
              "    </tr>\n",
              "    <tr>\n",
              "      <th>4</th>\n",
              "      <td>0.202621</td>\n",
              "      <td>2</td>\n",
              "      <td>1</td>\n",
              "      <td>1</td>\n",
              "      <td>1</td>\n",
              "      <td>150</td>\n",
              "      <td>0.202621</td>\n",
              "    </tr>\n",
              "  </tbody>\n",
              "</table>\n",
              "</div>\n",
              "      <button class=\"colab-df-convert\" onclick=\"convertToInteractive('df-d3a95d79-e66e-4e65-b0d5-d13bdc67f75f')\"\n",
              "              title=\"Convert this dataframe to an interactive table.\"\n",
              "              style=\"display:none;\">\n",
              "        \n",
              "  <svg xmlns=\"http://www.w3.org/2000/svg\" height=\"24px\"viewBox=\"0 0 24 24\"\n",
              "       width=\"24px\">\n",
              "    <path d=\"M0 0h24v24H0V0z\" fill=\"none\"/>\n",
              "    <path d=\"M18.56 5.44l.94 2.06.94-2.06 2.06-.94-2.06-.94-.94-2.06-.94 2.06-2.06.94zm-11 1L8.5 8.5l.94-2.06 2.06-.94-2.06-.94L8.5 2.5l-.94 2.06-2.06.94zm10 10l.94 2.06.94-2.06 2.06-.94-2.06-.94-.94-2.06-.94 2.06-2.06.94z\"/><path d=\"M17.41 7.96l-1.37-1.37c-.4-.4-.92-.59-1.43-.59-.52 0-1.04.2-1.43.59L10.3 9.45l-7.72 7.72c-.78.78-.78 2.05 0 2.83L4 21.41c.39.39.9.59 1.41.59.51 0 1.02-.2 1.41-.59l7.78-7.78 2.81-2.81c.8-.78.8-2.07 0-2.86zM5.41 20L4 18.59l7.72-7.72 1.47 1.35L5.41 20z\"/>\n",
              "  </svg>\n",
              "      </button>\n",
              "      \n",
              "  <style>\n",
              "    .colab-df-container {\n",
              "      display:flex;\n",
              "      flex-wrap:wrap;\n",
              "      gap: 12px;\n",
              "    }\n",
              "\n",
              "    .colab-df-convert {\n",
              "      background-color: #E8F0FE;\n",
              "      border: none;\n",
              "      border-radius: 50%;\n",
              "      cursor: pointer;\n",
              "      display: none;\n",
              "      fill: #1967D2;\n",
              "      height: 32px;\n",
              "      padding: 0 0 0 0;\n",
              "      width: 32px;\n",
              "    }\n",
              "\n",
              "    .colab-df-convert:hover {\n",
              "      background-color: #E2EBFA;\n",
              "      box-shadow: 0px 1px 2px rgba(60, 64, 67, 0.3), 0px 1px 3px 1px rgba(60, 64, 67, 0.15);\n",
              "      fill: #174EA6;\n",
              "    }\n",
              "\n",
              "    [theme=dark] .colab-df-convert {\n",
              "      background-color: #3B4455;\n",
              "      fill: #D2E3FC;\n",
              "    }\n",
              "\n",
              "    [theme=dark] .colab-df-convert:hover {\n",
              "      background-color: #434B5C;\n",
              "      box-shadow: 0px 1px 3px 1px rgba(0, 0, 0, 0.15);\n",
              "      filter: drop-shadow(0px 1px 2px rgba(0, 0, 0, 0.3));\n",
              "      fill: #FFFFFF;\n",
              "    }\n",
              "  </style>\n",
              "\n",
              "      <script>\n",
              "        const buttonEl =\n",
              "          document.querySelector('#df-d3a95d79-e66e-4e65-b0d5-d13bdc67f75f button.colab-df-convert');\n",
              "        buttonEl.style.display =\n",
              "          google.colab.kernel.accessAllowed ? 'block' : 'none';\n",
              "\n",
              "        async function convertToInteractive(key) {\n",
              "          const element = document.querySelector('#df-d3a95d79-e66e-4e65-b0d5-d13bdc67f75f');\n",
              "          const dataTable =\n",
              "            await google.colab.kernel.invokeFunction('convertToInteractive',\n",
              "                                                     [key], {});\n",
              "          if (!dataTable) return;\n",
              "\n",
              "          const docLinkHtml = 'Like what you see? Visit the ' +\n",
              "            '<a target=\"_blank\" href=https://colab.research.google.com/notebooks/data_table.ipynb>data table notebook</a>'\n",
              "            + ' to learn more about interactive tables.';\n",
              "          element.innerHTML = '';\n",
              "          dataTable['output_type'] = 'display_data';\n",
              "          await google.colab.output.renderOutput(dataTable, element);\n",
              "          const docLink = document.createElement('div');\n",
              "          docLink.innerHTML = docLinkHtml;\n",
              "          element.appendChild(docLink);\n",
              "        }\n",
              "      </script>\n",
              "    </div>\n",
              "  </div>\n",
              "  "
            ]
          },
          "metadata": {},
          "execution_count": 24
        }
      ]
    },
    {
      "cell_type": "code",
      "source": [
        "plt.figure(figsize=(12, 6))\n",
        "sns.heatmap(data.corr(),\n",
        "            cmap = 'BrBG',\n",
        "            fmt = '.2f',\n",
        "            linewidths = 2,\n",
        "            annot = True)"
      ],
      "metadata": {
        "id": "bBagi2WlNHim",
        "outputId": "d07ad1d4-dbb0-4e5a-c9b1-b84b4f4ab651",
        "colab": {
          "base_uri": "https://localhost:8080/",
          "height": 545
        }
      },
      "execution_count": 25,
      "outputs": [
        {
          "output_type": "execute_result",
          "data": {
            "text/plain": [
              "<Axes: >"
            ]
          },
          "metadata": {},
          "execution_count": 25
        },
        {
          "output_type": "display_data",
          "data": {
            "text/plain": [
              "<Figure size 1200x600 with 2 Axes>"
            ],
            "image/png": "[encoded data removed]"
          },
          "metadata": {}
        }
      ]
    },
    {
      "cell_type": "code",
      "source": [
        "print(data.isnull().sum())"
      ],
      "metadata": {
        "colab": {
          "base_uri": "https://localhost:8080/"
        },
        "id": "aHnKjxNuO6tP",
        "outputId": "f8828a6a-b5d1-4b6e-9fed-5ab517a5a94a"
      },
      "execution_count": 27,
      "outputs": [
        {
          "output_type": "stream",
          "name": "stdout",
          "text": [
            "Area         0\n",
            "Room         0\n",
            "Parking      0\n",
            "Warehouse    0\n",
            "Elevator     0\n",
            "Address      0\n",
            "Price        0\n",
            "dtype: int64\n"
          ]
        }
      ]
    },
    {
      "cell_type": "code",
      "source": [
        "from sklearn.preprocessing import OneHotEncoder\n",
        "s = (data.dtypes == 'object')\n",
        "object_cols = list(s[s].index)\n",
        "print(\"Categorical variables:\")\n",
        "print(object_cols)\n",
        "print('No. of. categorical features: ',\n",
        "      len(object_cols))"
      ],
      "metadata": {
        "colab": {
          "base_uri": "https://localhost:8080/"
        },
        "id": "P-UFyl_hPQLR",
        "outputId": "2dd277f1-06be-4a36-88d5-d25063fcb33e"
      },
      "execution_count": 28,
      "outputs": [
        {
          "output_type": "stream",
          "name": "stdout",
          "text": [
            "Categorical variables:\n",
            "[]\n",
            "No. of. categorical features:  0\n"
          ]
        }
      ]
    },
    {
      "cell_type": "code",
      "source": [
        "viz= data[['Price', 'Room','Area', 'Parking', 'Warehouse', 'Elevator', 'Address']]\n",
        "viz.hist()"
      ],
      "metadata": {
        "colab": {
          "base_uri": "https://localhost:8080/",
          "height": 591
        },
        "id": "HK-5UIw5Pjmy",
        "outputId": "3027cbe6-30af-4d1f-d85f-87f85544ccba"
      },
      "execution_count": 29,
      "outputs": [
        {
          "output_type": "execute_result",
          "data": {
            "text/plain": [
              "array([[<Axes: title={'center': 'Price'}>,\n",
              "        <Axes: title={'center': 'Room'}>,\n",
              "        <Axes: title={'center': 'Area'}>],\n",
              "       [<Axes: title={'center': 'Parking'}>,\n",
              "        <Axes: title={'center': 'Warehouse'}>,\n",
              "        <Axes: title={'center': 'Elevator'}>],\n",
              "       [<Axes: title={'center': 'Address'}>, <Axes: >, <Axes: >]],\n",
              "      dtype=object)"
            ]
          },
          "metadata": {},
          "execution_count": 29
        },
        {
          "output_type": "display_data",
          "data": {
            "text/plain": [
              "<Figure size 640x480 with 9 Axes>"
            ],
            "image/png": "[encoded data removed]"
          },
          "metadata": {}
        }
      ]
    },
    {
      "cell_type": "code",
      "source": [
        "from sklearn.model_selection import train_test_split\n",
        "x = np.array(data[[\"Parking\",\"Room\",\"Area\", \"Warehouse\", \"Elevator\", \"Address\"]])\n",
        "y = np.array(data[[\"Price\"]])\n",
        "x_train, x_test, y_train, y_test = train_test_split(x, y, test_size=0.2, random_state=2022)"
      ],
      "metadata": {
        "id": "znSNoGyPWKWn"
      },
      "execution_count": 38,
      "outputs": []
    },
    {
      "cell_type": "code",
      "source": [
        "from sklearn import linear_model\n",
        "regr= linear_model.LinearRegression()\n",
        "regr.fit(x_train, y_train)\n",
        "print('Coefficients:', regr.coef_)\n",
        "print('Intercept:', regr.intercept_)"
      ],
      "metadata": {
        "colab": {
          "base_uri": "https://localhost:8080/"
        },
        "id": "l2HKnyxeVBoT",
        "outputId": "58e0157f-70c2-4145-d1c9-d25173f7fab3"
      },
      "execution_count": 39,
      "outputs": [
        {
          "output_type": "stream",
          "name": "stdout",
          "text": [
            "Coefficients: [[-1.00424818e-15  2.44249065e-15  1.00000000e+00 -2.56739074e-16\n",
            "   1.66533454e-16  5.55111512e-17]]\n",
            "Intercept: [-1.00267017e-14]\n"
          ]
        }
      ]
    },
    {
      "cell_type": "code",
      "source": [
        "print(\"Price: \")\n",
        "a= float(input(\"Area:\"))\n",
        "b = float(input(\"Parking\"))\n",
        "c= float(input(\"Room:\"))\n",
        "d= float(input(\"Address:\"))\n",
        "e= float(input(\"Warehouse:\"))\n",
        "f= float(input(\"Elevator:\"))\n",
        "features= np.array([[a, b, c, d, e, f]])\n",
        "print(\"Price=\", regr.predict(features))"
      ],
      "metadata": {
        "colab": {
          "base_uri": "https://localhost:8080/"
        },
        "id": "SE6dtxDMYEdA",
        "outputId": "43d172a9-ada3-457d-811f-15667b94c8ed"
      },
      "execution_count": 41,
      "outputs": [
        {
          "output_type": "stream",
          "name": "stdout",
          "text": [
            "Price: \n",
            "Area:125\n",
            "Parking0\n",
            "Room:2\n",
            "Address:158\n",
            "Warehouse:0\n",
            "Elevator:1\n",
            "Price= [[2.]]\n"
          ]
        }
      ]
    },
    {
      "cell_type": "code",
      "source": [
        "from sklearn.metrics import r2_score\n",
        "x_test=np.asanyarray(test[[\"Parking\",\"Room\",\"Area\", \"Warehouse\", \"Elevator\", \"Address\"]])\n",
        "y_test=np.asanyarray(test[['Price']])\n",
        "y_hat= regr.predict(x_test)\n",
        "print(\"Mean Absolute Error: %.2f\" %np.mean(np.absolute(y_hat- y_test)))\n",
        "print(\"Residual sum of square (MSE): %.2f\" %np.mean((y_hat - y_test)**2))\n",
        "print(\"R2_score:%.2f\" %r2_score(y_test, y_hat))"
      ],
      "metadata": {
        "colab": {
          "base_uri": "https://localhost:8080/"
        },
        "id": "7e4NrppxZgac",
        "outputId": "b89c41a1-d849-48fb-cdda-16e4f616f2b9"
      },
      "execution_count": 52,
      "outputs": [
        {
          "output_type": "stream",
          "name": "stdout",
          "text": [
            "Mean Absolute Error: 0.00\n",
            "Residual sum of square (MSE): 0.00\n",
            "R2_score:1.00\n"
          ]
        }
      ]
    }
  ]
}