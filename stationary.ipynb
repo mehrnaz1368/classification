{
  "nbformat": 4,
  "nbformat_minor": 0,
  "metadata": {
    "colab": {
      "provenance": [],
      "authorship_tag": "ABX9TyMGZXEL/Q0y2M5iGpkv0L1k",
      "include_colab_link": true
    },
    "kernelspec": {
      "name": "python3",
      "display_name": "Python 3"
    },
    "language_info": {
      "name": "python"
    }
  },
  "cells": [
    {
      "cell_type": "markdown",
      "metadata": {
        "id": "view-in-github",
        "colab_type": "text"
      },
      "source": [
        "<a href=\"https://colab.research.google.com/github/mehrnaz1368/classification/blob/main/stationary.ipynb\" target=\"_parent\"><img src=\"https://colab.research.google.com/assets/colab-badge.svg\" alt=\"Open In Colab\"/></a>"
      ]
    },
    {
      "cell_type": "code",
      "execution_count": 91,
      "metadata": {
        "colab": {
          "base_uri": "https://localhost:8080/"
        },
        "id": "2WMPYDCUJXFJ",
        "outputId": "913eb8da-3e77-458a-885f-83d4937871b2"
      },
      "outputs": [
        {
          "output_type": "execute_result",
          "data": {
            "text/plain": [
              "0          18\n",
              "1          25\n",
              "2          26\n",
              "3          27\n",
              "4          21\n",
              "5          27\n",
              "6          27\n",
              "7          41\n",
              "8          46\n",
              "9          40\n",
              "10         41\n",
              "11         39\n",
              "12         44\n",
              "13         46\n",
              "14         67\n",
              "15        107\n",
              "16        158\n",
              "17        226\n",
              "18        380\n",
              "19        516\n",
              "20        887\n",
              "21       1262\n",
              "22       1539\n",
              "23       2014\n",
              "24       2990\n",
              "25       4046\n",
              "26       5731\n",
              "27       9179\n",
              "28      12743\n",
              "29      17318\n",
              "30      21530\n",
              "31      26561\n",
              "32      33824\n",
              "33      40561\n",
              "34      46438\n",
              "35      59161\n",
              "36      86092\n",
              "37     131567\n",
              "38     162056\n",
              "39     208631\n",
              "40     228439\n",
              "41     280185\n",
              "42     340518\n",
              "43     457311\n",
              "44     594653\n",
              "45     820289\n",
              "46    1153425\n",
              "47    1761390\n",
              "Name: IP, dtype: int64"
            ]
          },
          "metadata": {},
          "execution_count": 91
        }
      ],
      "source": [
        "import pandas as pd\n",
        "import numpy as np\n",
        "import matplotlib.pyplot as plt\n",
        "from sklearn.model_selection import train_test_split\n",
        "from sklearn.linear_model import LinearRegression\n",
        "from datetime import datetime\n",
        "%matplotlib inline\n",
        "from statsmodels.tsa.stattools import adfuller\n",
        "from sklearn.metrics import mean_squared_error\n",
        "from statsmodels.tsa.stattools import acf, pacf\n",
        "from statsmodels.tsa.seasonal import seasonal_decompose\n",
        "from statsmodels.tsa.arima.model import ARIMA\n",
        "from statsmodels.tsa.ar_model import AutoReg\n",
        "from statsmodels.graphics.tsaplots import plot_acf, plot_pacf\n",
        "from matplotlib.pylab import rcParams\n",
        "from scipy.stats import boxcox\n",
        "rcParams['figure.figsize']=10,6\n",
        "df=pd.read_csv(\"Book12.csv\")\n",
        "df['IP']\n"
      ]
    },
    {
      "cell_type": "code",
      "source": [],
      "metadata": {
        "id": "-_jjdWzYpfLE"
      },
      "execution_count": null,
      "outputs": []
    },
    {
      "cell_type": "markdown",
      "source": [
        "# checking exist null or not"
      ],
      "metadata": {
        "id": "uj6iA-7mYIIG"
      }
    },
    {
      "cell_type": "code",
      "source": [
        "print(df.isnull().sum())"
      ],
      "metadata": {
        "colab": {
          "base_uri": "https://localhost:8080/"
        },
        "id": "kgu3bDcOKSA6",
        "outputId": "d13d6937-d756-4268-b1cc-583916459803"
      },
      "execution_count": 44,
      "outputs": [
        {
          "output_type": "stream",
          "name": "stdout",
          "text": [
            "year    0\n",
            "IP      0\n",
            "L       0\n",
            "dtype: int64\n"
          ]
        }
      ]
    },
    {
      "cell_type": "markdown",
      "source": [
        "#check stationary"
      ],
      "metadata": {
        "id": "C8GAQ9vSYbAq"
      }
    },
    {
      "cell_type": "code",
      "source": [
        "from statsmodels.tsa.stattools import adfuller\n",
        "x_stationarityTest = adfuller(df['IP'], autolag='AIC')\n",
        "print(\"P-value: \", x_stationarityTest[1])"
      ],
      "metadata": {
        "colab": {
          "base_uri": "https://localhost:8080/"
        },
        "id": "yUDNFX_JKgkn",
        "outputId": "0623fae5-87f6-4052-b0ff-3950a20244db"
      },
      "execution_count": 45,
      "outputs": [
        {
          "output_type": "stream",
          "name": "stdout",
          "text": [
            "P-value:  0.9913781614500893\n"
          ]
        }
      ]
    },
    {
      "cell_type": "markdown",
      "source": [
        "it is not stationary because P-Value>0.05"
      ],
      "metadata": {
        "id": "bdNXmnxfZQOL"
      }
    },
    {
      "cell_type": "markdown",
      "source": [
        "#remove non-stationary"
      ],
      "metadata": {
        "id": "47o9bIWhYh-M"
      }
    },
    {
      "cell_type": "code",
      "source": [
        "z = df['IP'] - df['IP'].shift(1)\n",
        "z.dropna().plot()\n"
      ],
      "metadata": {
        "colab": {
          "base_uri": "https://localhost:8080/",
          "height": 465
        },
        "id": "8sXfhwK6Ucqi",
        "outputId": "956e2c0f-0ac7-436b-d179-b6f17a9f50e7"
      },
      "execution_count": 46,
      "outputs": [
        {
          "output_type": "execute_result",
          "data": {
            "text/plain": [
              "<Axes: >"
            ]
          },
          "metadata": {},
          "execution_count": 46
        },
        {
          "output_type": "display_data",
          "data": {
            "text/plain": [
              "<Figure size 1000x600 with 1 Axes>"
            ],
            "image/png": "[encoded data removed]"
          },
          "metadata": {}
        }
      ]
    },
    {
      "cell_type": "code",
      "source": [
        "o = z.fillna(method='ffill').fillna(method='bfill')\n",
        "print (o)"
      ],
      "metadata": {
        "id": "Ame4Wde4UpHf"
      },
      "execution_count": null,
      "outputs": []
    },
    {
      "cell_type": "code",
      "source": [
        "from statsmodels.tsa.stattools import adfuller\n",
        "o_stationarityTest = adfuller(o, autolag='AIC')\n",
        "print(\"P-value: \", o_stationarityTest[1])"
      ],
      "metadata": {
        "colab": {
          "base_uri": "https://localhost:8080/"
        },
        "id": "6kZ5OcuxUs41",
        "outputId": "89528655-4b1f-4f6f-fff5-099e38093fe7"
      },
      "execution_count": 53,
      "outputs": [
        {
          "output_type": "stream",
          "name": "stdout",
          "text": [
            "P-value:  0.9980442947051076\n"
          ]
        }
      ]
    },
    {
      "cell_type": "markdown",
      "source": [
        "the stationary couldn't remove"
      ],
      "metadata": {
        "id": "2lzsQ6Z9Yqqt"
      }
    },
    {
      "cell_type": "markdown",
      "source": [
        "#remove non-stationary with lag"
      ],
      "metadata": {
        "id": "CbOfSNHSYx_d"
      }
    },
    {
      "cell_type": "code",
      "source": [
        "v = np.log(df['IP'])\n",
        "print(v)"
      ],
      "metadata": {
        "id": "ZfChC1Y7VSbx"
      },
      "execution_count": null,
      "outputs": []
    },
    {
      "cell_type": "code",
      "source": [
        "from statsmodels.tsa.stattools import adfuller\n",
        "v_stationarityTest = adfuller(v, autolag='AIC')\n",
        "print(\"P-value: \", v_stationarityTest[1])\n"
      ],
      "metadata": {
        "colab": {
          "base_uri": "https://localhost:8080/"
        },
        "id": "YNUrD2jJW35A",
        "outputId": "c20eb963-20d6-4d63-e72f-fc3b1b95e915"
      },
      "execution_count": 55,
      "outputs": [
        {
          "output_type": "stream",
          "name": "stdout",
          "text": [
            "P-value:  0.9893710115922884\n"
          ]
        }
      ]
    },
    {
      "cell_type": "code",
      "source": [
        "n = v - v.shift(1)\n",
        "n.dropna().plot()"
      ],
      "metadata": {
        "colab": {
          "base_uri": "https://localhost:8080/",
          "height": 474
        },
        "id": "B6D1gfHiW8sP",
        "outputId": "d5a295c5-5493-43e7-f1b3-0e7e1de5fa3a"
      },
      "execution_count": 59,
      "outputs": [
        {
          "output_type": "execute_result",
          "data": {
            "text/plain": [
              "<Axes: >"
            ]
          },
          "metadata": {},
          "execution_count": 59
        },
        {
          "output_type": "display_data",
          "data": {
            "text/plain": [
              "<Figure size 1000x600 with 1 Axes>"
            ],
            "image/png": "[encoded data removed]"
          },
          "metadata": {}
        }
      ]
    },
    {
      "cell_type": "code",
      "source": [
        "d = n.fillna(method='ffill').fillna(method='bfill')\n",
        "print (d)"
      ],
      "metadata": {
        "id": "xJf2x1TjX1Xv"
      },
      "execution_count": null,
      "outputs": []
    },
    {
      "cell_type": "code",
      "source": [
        "from statsmodels.tsa.stattools import adfuller\n",
        "d_stationarityTest = adfuller(d, autolag='AIC')\n",
        "print(\"P-value: \", d_stationarityTest[1])"
      ],
      "metadata": {
        "colab": {
          "base_uri": "https://localhost:8080/"
        },
        "id": "_-uMHxhoW_fY",
        "outputId": "fdec8792-8056-4a7b-c424-def25e2c3edb"
      },
      "execution_count": 64,
      "outputs": [
        {
          "output_type": "stream",
          "name": "stdout",
          "text": [
            "P-value:  0.0012329578825243796\n"
          ]
        }
      ]
    },
    {
      "cell_type": "markdown",
      "source": [
        "#train and test"
      ],
      "metadata": {
        "id": "nqHKF-dmZKwM"
      }
    },
    {
      "cell_type": "code",
      "source": [
        "d_train,d_test= train_test_split(d,test_size=0.25,random_state=0)\n",
        "print(d_test)"
      ],
      "metadata": {
        "colab": {
          "base_uri": "https://localhost:8080/"
        },
        "id": "eskN-FiZZNNW",
        "outputId": "74e22d69-e11e-4a13-e400-6bbc8cb06711"
      },
      "execution_count": 66,
      "outputs": [
        {
          "output_type": "stream",
          "name": "stdout",
          "text": [
            "29    0.306764\n",
            "4    -0.251314\n",
            "26    0.348161\n",
            "30    0.217701\n",
            "32    0.241727\n",
            "37    0.424100\n",
            "34    0.135311\n",
            "40    0.090702\n",
            "7     0.417735\n",
            "10    0.024693\n",
            "11   -0.050010\n",
            "31    0.209997\n",
            "Name: IP, dtype: float64\n"
          ]
        }
      ]
    },
    {
      "cell_type": "code",
      "source": [
        "from statsmodels.graphics.tsaplots import plot_pacf\n",
        "pacf = plot_pacf(d, lags=2)\n"
      ],
      "metadata": {
        "colab": {
          "base_uri": "https://localhost:8080/",
          "height": 472
        },
        "id": "gqIyX6IQc8BW",
        "outputId": "2420c42b-5e80-435c-8ba2-050e8ea18d5d"
      },
      "execution_count": 74,
      "outputs": [
        {
          "output_type": "display_data",
          "data": {
            "text/plain": [
              "<Figure size 1000x600 with 1 Axes>"
            ],
            "image/png": "[encoded data removed]"
          },
          "metadata": {}
        }
      ]
    },
    {
      "cell_type": "markdown",
      "source": [
        "#Auto Regression"
      ],
      "metadata": {
        "id": "K34fVc5uZlKT"
      }
    },
    {
      "cell_type": "code",
      "source": [
        "ar_model = AutoReg(d_train, lags=2).fit()\n",
        "print(ar_model.summary())"
      ],
      "metadata": {
        "colab": {
          "base_uri": "https://localhost:8080/"
        },
        "id": "ON04KHIpZi4R",
        "outputId": "214808a2-dc82-4016-a2d8-e79bc47aa787"
      },
      "execution_count": 75,
      "outputs": [
        {
          "output_type": "stream",
          "name": "stdout",
          "text": [
            "                            AutoReg Model Results                             \n",
            "==============================================================================\n",
            "Dep. Variable:                     IP   No. Observations:                   36\n",
            "Model:                     AutoReg(2)   Log Likelihood                  17.176\n",
            "Method:               Conditional MLE   S.D. of innovations              0.146\n",
            "Date:                Sat, 11 Nov 2023   AIC                            -26.351\n",
            "Time:                        08:16:33   BIC                            -20.246\n",
            "Sample:                             2   HQIC                           -24.269\n",
            "                                   36                                         \n",
            "==============================================================================\n",
            "                 coef    std err          z      P>|z|      [0.025      0.975]\n",
            "------------------------------------------------------------------------------\n",
            "const          0.3325      0.070      4.760      0.000       0.196       0.469\n",
            "IP.L1         -0.0709      0.165     -0.431      0.666      -0.393       0.252\n",
            "IP.L2         -0.1754      0.164     -1.069      0.285      -0.497       0.146\n",
            "                                    Roots                                    \n",
            "=============================================================================\n",
            "                  Real          Imaginary           Modulus         Frequency\n",
            "-----------------------------------------------------------------------------\n",
            "AR.1           -0.2022           -2.3794j            2.3879           -0.2635\n",
            "AR.2           -0.2022           +2.3794j            2.3879            0.2635\n",
            "-----------------------------------------------------------------------------\n"
          ]
        },
        {
          "output_type": "stream",
          "name": "stderr",
          "text": [
            "/usr/local/lib/python3.10/dist-packages/statsmodels/tsa/base/tsa_model.py:473: ValueWarning: An unsupported index was provided and will be ignored when e.g. forecasting.\n",
            "  self._init_dates(dates, freq)\n"
          ]
        }
      ]
    },
    {
      "cell_type": "code",
      "source": [
        "pred = ar_model.predict(start=len(d_train), end=(len(df)-1), dynamic=False)\n",
        "from matplotlib import pyplot\n",
        "pyplot.plot(pred)\n",
        "pyplot.plot(d_test, color='red')"
      ],
      "metadata": {
        "id": "2tOtWxFQZ9Hk"
      },
      "execution_count": null,
      "outputs": []
    },
    {
      "cell_type": "code",
      "source": [
        "d_pred = ar_model.predict(start=len(d_train), end=(len(df)-1), dynamic=False)\n",
        "print(pred)\n"
      ],
      "metadata": {
        "colab": {
          "base_uri": "https://localhost:8080/"
        },
        "id": "vmrVfmmUdGyQ",
        "outputId": "26e09575-2a56-4a55-d79c-a81e301de372"
      },
      "execution_count": 77,
      "outputs": [
        {
          "output_type": "stream",
          "name": "stdout",
          "text": [
            "36    0.256307\n",
            "37    0.268309\n",
            "38    0.268564\n",
            "39    0.266441\n",
            "40    0.266547\n",
            "41    0.266912\n",
            "42    0.266867\n",
            "43    0.266806\n",
            "44    0.266818\n",
            "45    0.266828\n",
            "46    0.266825\n",
            "47    0.266824\n",
            "dtype: float64\n"
          ]
        },
        {
          "output_type": "stream",
          "name": "stderr",
          "text": [
            "/usr/local/lib/python3.10/dist-packages/statsmodels/tsa/base/tsa_model.py:836: ValueWarning: No supported index is available. Prediction results will be given with an integer index beginning at `start`.\n",
            "  return get_prediction_index(\n",
            "/usr/local/lib/python3.10/dist-packages/statsmodels/tsa/base/tsa_model.py:836: FutureWarning: No supported index is available. In the next version, calling this method in a model without a supported index will result in an exception.\n",
            "  return get_prediction_index(\n",
            "/usr/local/lib/python3.10/dist-packages/statsmodels/tsa/deterministic.py:302: UserWarning: Only PeriodIndexes, DatetimeIndexes with a frequency set, RangesIndexes, and Index with a unit increment support extending. The index is set will contain the position relative to the data length.\n",
            "  fcast_index = self._extend_index(index, steps, forecast_index)\n"
          ]
        }
      ]
    },
    {
      "cell_type": "code",
      "source": [
        "from sklearn.metrics import r2_score\n",
        "d_t"
      ],
      "metadata": {
        "id": "ZNQyIo2XnB3P"
      },
      "execution_count": 92,
      "outputs": []
    },
    {
      "cell_type": "code",
      "source": [],
      "metadata": {
        "id": "-zyaMhIGm1Cv"
      },
      "execution_count": null,
      "outputs": []
    }
  ]
}